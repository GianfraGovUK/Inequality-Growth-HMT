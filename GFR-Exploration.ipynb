{
 "cells": [
  {
   "cell_type": "code",
   "execution_count": null,
   "metadata": {},
   "outputs": [],
   "source": [
    "#implement a different lag for several variables in a regression model in python\n"
   ]
  },
  {
   "cell_type": "code",
   "execution_count": 1,
   "metadata": {},
   "outputs": [],
   "source": [
    "import pandas as pd"
   ]
  },
  {
   "cell_type": "code",
   "execution_count": 3,
   "metadata": {},
   "outputs": [],
   "source": [
    "df_original_data = pd.read_csv('data/growth_data.csv')\n",
    "#df_original_data"
   ]
  },
  {
   "cell_type": "code",
   "execution_count": 4,
   "metadata": {},
   "outputs": [
    {
     "data": {
      "text/plain": [
       "Index(['Year', 'GDP_pc', 'HC_index', 'Pop_growth', 'Capital_stock', 'gini',\n",
       "       'change_in_cpi', 'Recession.dummy', 'UK_gdp_pc_growth',\n",
       "       'wrl_gdp_growth'],\n",
       "      dtype='object')"
      ]
     },
     "execution_count": 4,
     "metadata": {},
     "output_type": "execute_result"
    }
   ],
   "source": [
    "df_original_data.columns\n"
   ]
  },
  {
   "cell_type": "code",
   "execution_count": null,
   "metadata": {},
   "outputs": [],
   "source": [
    "\n",
    "from sklearn.model_selection import train_test_split\n",
    "from sklearn.linear_model import LinearRegression\n",
    "\n",
    "#'Year', 'GDP_pc', 'HC_index', 'Pop_growth', 'Capital_stock', 'gini',\n",
    "#       'change_in_cpi', 'Recession.dummy', 'UK_gdp_pc_growth',\n",
    "#       'wrl_gdp_growth'\n",
    "\n",
    "\n",
    "\n",
    "# Define lags for each variable\n",
    "#the two values in the dictionary are the lags for each variable\n",
    "lags = {\n",
    "    'variable1': [1, 2],\n",
    "    'variable2': [1, 3]\n",
    "}\n",
    "\n",
    "# Create lagged features\n",
    "for var, lag_list in lags.items():\n",
    "    for lag in lag_list:\n",
    "        df[f'{var}_lag{lag}'] = df[var].shift(lag)\n",
    "\n",
    "# Drop rows with NaN values (due to lagging)\n",
    "df.dropna(inplace=True)\n",
    "\n",
    "# Define features and target\n",
    "X = df[['variable1_lag1', 'variable1_lag2', 'variable2_lag1', 'variable2_lag3']]\n",
    "y = df['target']\n",
    "\n",
    "# Split the data into training and testing sets\n",
    "X_train, X_test, y_train, y_test = train_test_split(X, y, test_size=0.2, random_state=42)\n",
    "\n",
    "# Fit a regression model\n",
    "model = LinearRegression()\n",
    "model.fit(X_train, y_train)\n",
    "\n",
    "# Predict and evaluate the model\n",
    "y_pred = model.predict(X_test)\n",
    "\n",
    "# Print the coefficients\n",
    "print(\"Coefficients:\", model.coef_)\n",
    "print(\"Intercept:\", model.intercept_)"
   ]
  }
 ],
 "metadata": {
  "kernelspec": {
   "display_name": "Python 3",
   "language": "python",
   "name": "python3"
  },
  "language_info": {
   "codemirror_mode": {
    "name": "ipython",
    "version": 3
   },
   "file_extension": ".py",
   "mimetype": "text/x-python",
   "name": "python",
   "nbconvert_exporter": "python",
   "pygments_lexer": "ipython3",
   "version": "3.12.8"
  }
 },
 "nbformat": 4,
 "nbformat_minor": 2
}
